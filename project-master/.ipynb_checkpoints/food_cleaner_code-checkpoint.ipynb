{
 "cells": [
  {
   "cell_type": "markdown",
   "metadata": {},
   "source": [
    "# Food cleaner code\n",
    "\n",
    "This code contains the cleaning of the database.\n",
    "\n",
    "It takes the original database of recipes, an extra database of foods, and adds an extra-column to the original database with the list of ingredients for each recipe.\n",
    "\n",
    "It also creates a 'cleaned' database 'foods_clean.csv' which does not contain the unused ingredients of the food database."
   ]
  },
  {
   "cell_type": "code",
   "execution_count": 1,
   "metadata": {
    "collapsed": true
   },
   "outputs": [],
   "source": [
    "import os\n",
    "import pandas as pd\n",
    "import numpy as np\n",
    "import collections\n",
    "import matplotlib.pyplot as plt\n",
    "import re\n",
    "\n",
    "%matplotlib inline\n",
    "pd.options.display.max_rows = 2\n",
    "pd.options.display.max_colwidth = 1000"
   ]
  },
  {
   "cell_type": "code",
   "execution_count": 2,
   "metadata": {
    "collapsed": false,
    "scrolled": true
   },
   "outputs": [
    {
     "data": {
      "text/html": [
       "<div>\n",
       "<table border=\"1\" class=\"dataframe\">\n",
       "  <thead>\n",
       "    <tr style=\"text-align: right;\">\n",
       "      <th></th>\n",
       "      <th>title</th>\n",
       "      <th>ingredients_list</th>\n",
       "    </tr>\n",
       "  </thead>\n",
       "  <tbody>\n",
       "    <tr>\n",
       "      <th>0</th>\n",
       "      <td>easy light chocolate milkshake recipe</td>\n",
       "      <td>put one half cup of milk, 4 tablespoons of chocolate syrup, vanilla extract and ice to taste in whatever your using to blend it. blend until satisfied with the texture and serve.|now what are you waiting for?|go on! enjoy!</td>\n",
       "    </tr>\n",
       "    <tr>\n",
       "      <th>...</th>\n",
       "      <td>...</td>\n",
       "      <td>...</td>\n",
       "    </tr>\n",
       "    <tr>\n",
       "      <th>4</th>\n",
       "      <td>old fashioned butterscotch pie recipe #31698</td>\n",
       "      <td>1 1/2 cup brown sugar|1 cup water|3 eggs|4 tablespoons flour|1 cup milk|4 tablespoons butter|1 teaspoon vanilla extract|1/4 teaspoon salt|1/2 teaspoon cream of tartar|4 tablespoons granulated or powdered sugar</td>\n",
       "    </tr>\n",
       "  </tbody>\n",
       "</table>\n",
       "<p>5 rows × 2 columns</p>\n",
       "</div>"
      ],
      "text/plain": [
       "                                           title  \\\n",
       "0          easy light chocolate milkshake recipe   \n",
       "..                                           ...   \n",
       "4   old fashioned butterscotch pie recipe #31698   \n",
       "\n",
       "                                                                                                                                                                                                                  ingredients_list  \n",
       "0   put one half cup of milk, 4 tablespoons of chocolate syrup, vanilla extract and ice to taste in whatever your using to blend it. blend until satisfied with the texture and serve.|now what are you waiting for?|go on! enjoy!  \n",
       "..                                                                                                                                                                                                                             ...  \n",
       "4                1 1/2 cup brown sugar|1 cup water|3 eggs|4 tablespoons flour|1 cup milk|4 tablespoons butter|1 teaspoon vanilla extract|1/4 teaspoon salt|1/2 teaspoon cream of tartar|4 tablespoons granulated or powdered sugar  \n",
       "\n",
       "[5 rows x 2 columns]"
      ]
     },
     "execution_count": 2,
     "metadata": {},
     "output_type": "execute_result"
    }
   ],
   "source": [
    "if(\"reload\" not in globals()):\n",
    "    reload = True\n",
    "    \n",
    "if(reload):\n",
    "    db = pd.read_excel('recipeInfo/recipeInfo.xls',encoding='utf8')\n",
    "    \n",
    "    db2 = db.dropna(subset=['ingredients_bag-of-words'],axis=0)\n",
    "    \n",
    "    reload = False\n",
    "\n",
    "db_recipes = db2[['title','ingredients_list']].copy(deep=True)\n",
    "db_recipes['title'] = db_recipes['title'].str.lower()\n",
    "db_recipes['ingredients_list'] = db_recipes['ingredients_list'].str.lower()\n",
    "db_recipes.head()"
   ]
  },
  {
   "cell_type": "code",
   "execution_count": 3,
   "metadata": {
    "collapsed": false,
    "scrolled": true
   },
   "outputs": [
    {
     "data": {
      "text/html": [
       "<div>\n",
       "<table border=\"1\" class=\"dataframe\">\n",
       "  <thead>\n",
       "    <tr style=\"text-align: right;\">\n",
       "      <th></th>\n",
       "      <th>name</th>\n",
       "      <th>food_group</th>\n",
       "    </tr>\n",
       "  </thead>\n",
       "  <tbody>\n",
       "    <tr>\n",
       "      <th>0</th>\n",
       "      <td>greenland halibut/turbot</td>\n",
       "      <td>aquatic foods</td>\n",
       "    </tr>\n",
       "    <tr>\n",
       "      <th>...</th>\n",
       "      <td>...</td>\n",
       "      <td>...</td>\n",
       "    </tr>\n",
       "    <tr>\n",
       "      <th>4</th>\n",
       "      <td>arctic ground squirrel</td>\n",
       "      <td>animal foods</td>\n",
       "    </tr>\n",
       "  </tbody>\n",
       "</table>\n",
       "<p>5 rows × 2 columns</p>\n",
       "</div>"
      ],
      "text/plain": [
       "                        name     food_group\n",
       "0   greenland halibut/turbot  aquatic foods\n",
       "..                       ...            ...\n",
       "4     arctic ground squirrel   animal foods\n",
       "\n",
       "[5 rows x 2 columns]"
      ]
     },
     "execution_count": 3,
     "metadata": {},
     "output_type": "execute_result"
    }
   ],
   "source": [
    "db_foods = pd.read_csv('recipeInfo/foods_modif.csv',encoding='latin1')\n",
    "db_foods['name'] = db_foods['name'].str.lower()\n",
    "db_foods['food_group'] = db_foods['food_group'].str.lower()\n",
    "\n",
    "#sort by length\n",
    "db_foods.index = db_foods['name'].str.len()\n",
    "db_foods = db_foods.sort_index(ascending=False).reset_index(drop=True)\n",
    "\n",
    "# create foods list\n",
    "foods_list = db_foods['name'].tolist()\n",
    "\n",
    "db_foods.head()"
   ]
  },
  {
   "cell_type": "code",
   "execution_count": 4,
   "metadata": {
    "collapsed": false
   },
   "outputs": [],
   "source": [
    "non_foods_list = ['teaspsoon','teaspooons','teaspooon','teasopoon','teaspoons',\n",
    "                  'teaspoon','teas.','virgin']\n",
    "\n",
    "residual_list = []\n",
    "\n",
    "def match_foods(x):\n",
    "    ret_list = []\n",
    "    x_copy = x + ' '\n",
    "    for non_food in non_foods_list:\n",
    "        x_copy = x_copy.replace(non_food,'')\n",
    "    for food in foods_list:\n",
    "        if food.endswith('y'):\n",
    "            if ((food+' ') in x_copy or (food+',') in x_copy or\n",
    "            (food+'|') in x_copy or (food[:-1]+'ies') in x_copy or\n",
    "            (food+'s') in x_copy):\n",
    "                ret_list.append(food)\n",
    "                x_copy = x_copy.replace(food[:-1],'///') \n",
    "        elif food.endswith('o'):\n",
    "            if ((food+' ') in x_copy or (food+',') in x_copy or\n",
    "            (food+'|') in x_copy or (food+'es') in x_copy or\n",
    "            (food+'s') in x_copy):\n",
    "                ret_list.append(food)\n",
    "                x_copy = x_copy.replace(food[:-1],'///')\n",
    "        elif food.endswith('h'):\n",
    "            if ((food+' ') in x_copy or (food+',') in x_copy or\n",
    "            (food+'|') in x_copy or (food+'es') in x_copy or\n",
    "            (food+'s') in x_copy):\n",
    "                ret_list.append(food)\n",
    "                x_copy = x_copy.replace(food[:-1],'///')\n",
    "        elif food.endswith('f'):\n",
    "            if ((food+' ') in x_copy or (food+',') in x_copy or\n",
    "            (food+'|') in x_copy or (food[:-1]+'ves') in x_copy or\n",
    "            (food+'s') in x_copy):\n",
    "                ret_list.append(food)\n",
    "                x_copy = x_copy.replace(food[:-1],'///')   \n",
    "        else: \n",
    "            if ((food+' ') in x_copy or (food+',') in x_copy or\n",
    "            (food+'|') in x_copy or (food+'s') in x_copy):\n",
    "                ret_list.append(food)\n",
    "                x_copy = x_copy.replace(food,'///')\n",
    "                \n",
    "    residual_list.append(x_copy)\n",
    "    return ret_list\n",
    "\n",
    "db_recipes['ingredients'] = db_recipes['ingredients_list'].apply(match_foods)"
   ]
  },
  {
   "cell_type": "code",
   "execution_count": 5,
   "metadata": {
    "collapsed": false
   },
   "outputs": [
    {
     "name": "stdout",
     "output_type": "stream",
     "text": [
      "1070\n"
     ]
    }
   ],
   "source": [
    "count = [0]*len(foods_list)\n",
    "\n",
    "def count_food(x):\n",
    "    for food in x:\n",
    "        count[foods_list.index(food)] += 1\n",
    "db_recipes['ingredients'].apply(count_food)\n",
    "\n",
    "print(len(count))"
   ]
  },
  {
   "cell_type": "code",
   "execution_count": 6,
   "metadata": {
    "collapsed": false
   },
   "outputs": [
    {
     "data": {
      "text/html": [
       "<div>\n",
       "<table border=\"1\" class=\"dataframe\">\n",
       "  <thead>\n",
       "    <tr style=\"text-align: right;\">\n",
       "      <th></th>\n",
       "      <th>name</th>\n",
       "      <th>food_group</th>\n",
       "      <th>count</th>\n",
       "    </tr>\n",
       "  </thead>\n",
       "  <tbody>\n",
       "    <tr>\n",
       "      <th>0</th>\n",
       "      <td>salt</td>\n",
       "      <td>baking goods</td>\n",
       "      <td>25071</td>\n",
       "    </tr>\n",
       "    <tr>\n",
       "      <th>...</th>\n",
       "      <td>...</td>\n",
       "      <td>...</td>\n",
       "      <td>...</td>\n",
       "    </tr>\n",
       "    <tr>\n",
       "      <th>4</th>\n",
       "      <td>garlic</td>\n",
       "      <td>herbs and spices</td>\n",
       "      <td>13699</td>\n",
       "    </tr>\n",
       "  </tbody>\n",
       "</table>\n",
       "<p>5 rows × 3 columns</p>\n",
       "</div>"
      ],
      "text/plain": [
       "      name        food_group  count\n",
       "0     salt      baking goods  25071\n",
       "..     ...               ...    ...\n",
       "4   garlic  herbs and spices  13699\n",
       "\n",
       "[5 rows x 3 columns]"
      ]
     },
     "execution_count": 6,
     "metadata": {},
     "output_type": "execute_result"
    }
   ],
   "source": [
    "db_foods['count'] = count\n",
    "#sort by count\n",
    "db_foods.index = db_foods['count']\n",
    "db_foods = db_foods.sort_index(ascending=False).reset_index(drop=True)\n",
    "db_foods.head()"
   ]
  },
  {
   "cell_type": "code",
   "execution_count": 7,
   "metadata": {
    "collapsed": false
   },
   "outputs": [],
   "source": [
    "db_foods_clean = db_foods[db_foods['count']!=0].reset_index(drop=True)\n",
    "db_foods_clean.to_csv('recipeInfo/foods_clean.csv')"
   ]
  }
 ],
 "metadata": {
  "anaconda-cloud": {},
  "kernelspec": {
   "display_name": "Python [conda root]",
   "language": "python",
   "name": "conda-root-py"
  },
  "language_info": {
   "codemirror_mode": {
    "name": "ipython",
    "version": 3
   },
   "file_extension": ".py",
   "mimetype": "text/x-python",
   "name": "python",
   "nbconvert_exporter": "python",
   "pygments_lexer": "ipython3",
   "version": "3.5.2"
  }
 },
 "nbformat": 4,
 "nbformat_minor": 2
}
