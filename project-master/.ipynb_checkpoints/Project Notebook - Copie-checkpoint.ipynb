{
 "cells": [
  {
   "cell_type": "markdown",
   "metadata": {},
   "source": [
    "# Cooking for dummies\n",
    "\n",
    "## Abstract\n",
    "\n",
    "Eating is one of the main actions we do everyday. But cooking does not seem to be as core as eating, as precooked food seem to be more popular than ever. Moreover, with the restructuring of the society in terms of gender, cooking lessons are now meant for specialists that intend to work as cooks. It seems relevant to study the recipes found online to help guiding the nowadays willing-to-cook beginner to choose the more appropriate recipe and to understand the calories indications in terms of understandable, tangible notions.\n",
    "\n",
    "Can recipes be grouped into meaningful classes in terms of ingredients? Are these groups characterized by their distributions in carbs,fat and proteins?\n",
    "\n",
    "The idea of the study is to group the recipes, not based on the classic starter/main course/dessert but on a more realistic grouping based on the food groups (vegetables,dairy,cereals,...) used in the recipes. The main idea is to get the ingredients by **Natural Language Processing**, and then use a **k-means clustering algorithm** to define our groups of recipes. We can then study their distributions regarding their calories and try to **characterize our groups by carb, fat and proteins distribution**. we finally use **propensity scores** to assess how much the characterization by fat,carb,proteins is relevant."
   ]
  },
  {
   "cell_type": "code",
   "execution_count": 1,
   "metadata": {
    "collapsed": true
   },
   "outputs": [],
   "source": [
    "import os\n",
    "import pandas as pd\n",
    "import numpy as np\n",
    "import collections\n",
    "import matplotlib.pyplot as plt\n",
    "import matplotlib.patches as patches\n",
    "import re\n",
    "\n",
    "%matplotlib inline\n",
    "pd.options.display.max_rows = 10\n",
    "pd.options.display.max_colwidth = 1000"
   ]
  },
  {
   "cell_type": "markdown",
   "metadata": {},
   "source": [
    "## Dataset\n",
    "\n",
    "We take our data from:\n",
    "* Cooking recipes: infolab.stanford.edu/~west1/from-cookies-to-cooks/recipePages.zip \n",
    "* infolab.stanford.edu/~west1/from-cookies-to-cooks/recipeInfo.tar.gz\n"
   ]
  },
  {
   "cell_type": "code",
   "execution_count": 2,
   "metadata": {
    "collapsed": false,
    "scrolled": true
   },
   "outputs": [
    {
     "data": {
      "text/html": [
       "<div>\n",
       "<table border=\"1\" class=\"dataframe\">\n",
       "  <thead>\n",
       "    <tr style=\"text-align: right;\">\n",
       "      <th></th>\n",
       "      <th>domain</th>\n",
       "      <th>url</th>\n",
       "      <th>kcal_total</th>\n",
       "      <th>kcal_carb</th>\n",
       "      <th>kcal_fat</th>\n",
       "      <th>kcal_protein</th>\n",
       "      <th>mg_sodium</th>\n",
       "      <th>mg_cholesterol</th>\n",
       "      <th>title</th>\n",
       "      <th>title_bag-of-words</th>\n",
       "      <th>ingredients_list</th>\n",
       "      <th>ingredients_bag-of-words</th>\n",
       "    </tr>\n",
       "  </thead>\n",
       "  <tbody>\n",
       "    <tr>\n",
       "      <th>0</th>\n",
       "      <td>recipes.sparkpeople.com</td>\n",
       "      <td>http://recipes.sparkpeople.com/recipe-detail.asp?recipe=1191905</td>\n",
       "      <td>257.1</td>\n",
       "      <td>220</td>\n",
       "      <td>7.2</td>\n",
       "      <td>21.2</td>\n",
       "      <td>95.4</td>\n",
       "      <td>2.5</td>\n",
       "      <td>Easy Light Chocolate Milkshake Recipe</td>\n",
       "      <td>chocolate easy light milkshake recipe</td>\n",
       "      <td>put one half cup of milk, 4 tablespoons of chocolate syrup, Vanilla extract and Ice to taste in whatever your using to blend it. Blend until satisfied with the texture and serve.|Now what are you waiting for?|go on! enjoy!</td>\n",
       "      <td>! , . 4 ? and are blend chocolate cup enjoy extract for go half ice in it milk now of on one put satisfied serve syrup tablespoons taste texture the to until using vanilla waiting what whatever with you your</td>\n",
       "    </tr>\n",
       "    <tr>\n",
       "      <th>1</th>\n",
       "      <td>foodnetwork.com</td>\n",
       "      <td>http://www.foodnetwork.com/recipes/rachael-rays-tasty-travels/lamb-stew-recipe/index.html</td>\n",
       "      <td>?</td>\n",
       "      <td>?</td>\n",
       "      <td>?</td>\n",
       "      <td>?</td>\n",
       "      <td>?</td>\n",
       "      <td>?</td>\n",
       "      <td>Lamb Stew Recipe : : Recipes : Food Network</td>\n",
       "      <td>: food lamb network recipe recipes stew</td>\n",
       "      <td>5 yellow onions|2 turnips|5 carrots|1 stalk fennel|1 cup cooking oil, divided|1 1/2 gallons chicken stock|1/2 head garlic|1/4 gallon orange juice|1/4 gallon apple cider|1/4 cup coriander seeds|1/8 cup fennel seeds|1 star anise|2 tablespoons cumin seeds|1/8 cup orange zest|1 teaspoon salt|1/2 tablespoon freshly ground black pepper|1 leg of lamb|3 cups dry white wine|Salt and freshly ground pepper|Your choice fresh herbs, minced, to taste</td>\n",
       "      <td>, 1 1\\/2 1\\/4 1\\/8 1 1\\/2 2 3 5 and anise apple black carrots chicken choice cider cooking coriander cumin cup cups divided dry fennel fresh freshly gallon gallons garlic ground head herbs juice lamb leg minced of oil onions orange pepper salt seeds stalk star stock tablespoon tablespoons taste teaspoon to turnips white wine yellow your zest</td>\n",
       "    </tr>\n",
       "    <tr>\n",
       "      <th>2</th>\n",
       "      <td>foodnetwork.com</td>\n",
       "      <td>http://www.foodnetwork.com/recipes/paula-deen/chocolate-bread-pudding-recipe/index.html</td>\n",
       "      <td>?</td>\n",
       "      <td>?</td>\n",
       "      <td>?</td>\n",
       "      <td>?</td>\n",
       "      <td>?</td>\n",
       "      <td>?</td>\n",
       "      <td>Chocolate Bread Pudding Recipe : Paula Deen : Recipes : Food Network</td>\n",
       "      <td>: bread chocolate deen food network paula pudding recipe recipes</td>\n",
       "      <td>1 (1-pound) loaf French or Italian bread, cubed|3 cups milk|1/4 cup heavy cream|1/2 cup coffee flavored liqueur|1 cup sugar|1 cup packed light brown sugar|1/4 cup cocoa powder|1 tablespoon vanilla extract|2 teaspoons almond extract|1 1/2 teaspoon cinnamon|6 eggs, lightly beaten|8 ounces semisweet chocolate, grated|Whipped cream (optional)</td>\n",
       "      <td>, -lrb- -rrb- 1 1-pound 1\\/2 1\\/4 1 1\\/2 2 3 6 8 almond beaten bread brown chocolate cinnamon cocoa coffee cream cubed cup cups eggs extract flavored french grated heavy italian light lightly liqueur loaf milk optional or ounces packed powder semisweet sugar tablespoon teaspoon teaspoons vanilla whipped</td>\n",
       "    </tr>\n",
       "    <tr>\n",
       "      <th>3</th>\n",
       "      <td>cdkitchen.com</td>\n",
       "      <td>http://www.cdkitchen.com/recipes/recs/32/Snowball_Cookies_II54545.shtml</td>\n",
       "      <td>?</td>\n",
       "      <td>?</td>\n",
       "      <td>?</td>\n",
       "      <td>?</td>\n",
       "      <td>?</td>\n",
       "      <td>?</td>\n",
       "      <td>Snowball Cookies II Recipe</td>\n",
       "      <td>cookies ii recipe snowball</td>\n",
       "      <td>1/2 cup powdered sugar|1/3 cup butter or margarine|2 cups bisquick baking mix|1/2 cup chopped nuts|1 teaspoon almond extract|2 tablespoons water|powdered sugar</td>\n",
       "      <td>1 1\\/2 1\\/3 2 almond baking bisquick butter chopped cup cups extract margarine mix nuts or powdered sugar tablespoons teaspoon water</td>\n",
       "    </tr>\n",
       "    <tr>\n",
       "      <th>4</th>\n",
       "      <td>cdkitchen.com</td>\n",
       "      <td>http://www.cdkitchen.com/recipes/recs/38/Old_Fashioned_Butterscotch_Pie42680.shtml</td>\n",
       "      <td>192</td>\n",
       "      <td>120</td>\n",
       "      <td>63</td>\n",
       "      <td>12</td>\n",
       "      <td>?</td>\n",
       "      <td>?</td>\n",
       "      <td>Old Fashioned Butterscotch Pie Recipe #31698</td>\n",
       "      <td># 31698 butterscotch fashioned old pie recipe</td>\n",
       "      <td>1 1/2 cup brown sugar|1 cup water|3 eggs|4 tablespoons flour|1 cup milk|4 tablespoons butter|1 teaspoon vanilla extract|1/4 teaspoon salt|1/2 teaspoon cream of tartar|4 tablespoons granulated or powdered sugar</td>\n",
       "      <td>1 1\\/2 1\\/4 1 1\\/2 3 4 brown butter cream cup eggs extract flour granulated milk of or powdered salt sugar tablespoons tartar teaspoon vanilla water</td>\n",
       "    </tr>\n",
       "  </tbody>\n",
       "</table>\n",
       "</div>"
      ],
      "text/plain": [
       "                    domain  \\\n",
       "0  recipes.sparkpeople.com   \n",
       "1          foodnetwork.com   \n",
       "2          foodnetwork.com   \n",
       "3            cdkitchen.com   \n",
       "4            cdkitchen.com   \n",
       "\n",
       "                                                                                         url  \\\n",
       "0                            http://recipes.sparkpeople.com/recipe-detail.asp?recipe=1191905   \n",
       "1  http://www.foodnetwork.com/recipes/rachael-rays-tasty-travels/lamb-stew-recipe/index.html   \n",
       "2    http://www.foodnetwork.com/recipes/paula-deen/chocolate-bread-pudding-recipe/index.html   \n",
       "3                    http://www.cdkitchen.com/recipes/recs/32/Snowball_Cookies_II54545.shtml   \n",
       "4         http://www.cdkitchen.com/recipes/recs/38/Old_Fashioned_Butterscotch_Pie42680.shtml   \n",
       "\n",
       "  kcal_total kcal_carb kcal_fat kcal_protein mg_sodium mg_cholesterol  \\\n",
       "0      257.1       220      7.2         21.2      95.4            2.5   \n",
       "1          ?         ?        ?            ?         ?              ?   \n",
       "2          ?         ?        ?            ?         ?              ?   \n",
       "3          ?         ?        ?            ?         ?              ?   \n",
       "4        192       120       63           12         ?              ?   \n",
       "\n",
       "                                                                  title  \\\n",
       "0                                 Easy Light Chocolate Milkshake Recipe   \n",
       "1                           Lamb Stew Recipe : : Recipes : Food Network   \n",
       "2  Chocolate Bread Pudding Recipe : Paula Deen : Recipes : Food Network   \n",
       "3                                            Snowball Cookies II Recipe   \n",
       "4                          Old Fashioned Butterscotch Pie Recipe #31698   \n",
       "\n",
       "                                                 title_bag-of-words  \\\n",
       "0                             chocolate easy light milkshake recipe   \n",
       "1                           : food lamb network recipe recipes stew   \n",
       "2  : bread chocolate deen food network paula pudding recipe recipes   \n",
       "3                                        cookies ii recipe snowball   \n",
       "4                     # 31698 butterscotch fashioned old pie recipe   \n",
       "\n",
       "                                                                                                                                                                                                                                                                                                                                                                                                                                           ingredients_list  \\\n",
       "0                                                                                                                                                                                                                            put one half cup of milk, 4 tablespoons of chocolate syrup, Vanilla extract and Ice to taste in whatever your using to blend it. Blend until satisfied with the texture and serve.|Now what are you waiting for?|go on! enjoy!   \n",
       "1  5 yellow onions|2 turnips|5 carrots|1 stalk fennel|1 cup cooking oil, divided|1 1/2 gallons chicken stock|1/2 head garlic|1/4 gallon orange juice|1/4 gallon apple cider|1/4 cup coriander seeds|1/8 cup fennel seeds|1 star anise|2 tablespoons cumin seeds|1/8 cup orange zest|1 teaspoon salt|1/2 tablespoon freshly ground black pepper|1 leg of lamb|3 cups dry white wine|Salt and freshly ground pepper|Your choice fresh herbs, minced, to taste   \n",
       "2                                                                                                      1 (1-pound) loaf French or Italian bread, cubed|3 cups milk|1/4 cup heavy cream|1/2 cup coffee flavored liqueur|1 cup sugar|1 cup packed light brown sugar|1/4 cup cocoa powder|1 tablespoon vanilla extract|2 teaspoons almond extract|1 1/2 teaspoon cinnamon|6 eggs, lightly beaten|8 ounces semisweet chocolate, grated|Whipped cream (optional)   \n",
       "3                                                                                                                                                                                                                                                                                           1/2 cup powdered sugar|1/3 cup butter or margarine|2 cups bisquick baking mix|1/2 cup chopped nuts|1 teaspoon almond extract|2 tablespoons water|powdered sugar   \n",
       "4                                                                                                                                                                                                                                         1 1/2 cup brown sugar|1 cup water|3 eggs|4 tablespoons flour|1 cup milk|4 tablespoons butter|1 teaspoon vanilla extract|1/4 teaspoon salt|1/2 teaspoon cream of tartar|4 tablespoons granulated or powdered sugar   \n",
       "\n",
       "                                                                                                                                                                                                                                                                                                                                  ingredients_bag-of-words  \n",
       "0                                                                                                                                          ! , . 4 ? and are blend chocolate cup enjoy extract for go half ice in it milk now of on one put satisfied serve syrup tablespoons taste texture the to until using vanilla waiting what whatever with you your  \n",
       "1  , 1 1\\/2 1\\/4 1\\/8 1 1\\/2 2 3 5 and anise apple black carrots chicken choice cider cooking coriander cumin cup cups divided dry fennel fresh freshly gallon gallons garlic ground head herbs juice lamb leg minced of oil onions orange pepper salt seeds stalk star stock tablespoon tablespoons taste teaspoon to turnips white wine yellow your zest  \n",
       "2                                         , -lrb- -rrb- 1 1-pound 1\\/2 1\\/4 1 1\\/2 2 3 6 8 almond beaten bread brown chocolate cinnamon cocoa coffee cream cubed cup cups eggs extract flavored french grated heavy italian light lightly liqueur loaf milk optional or ounces packed powder semisweet sugar tablespoon teaspoon teaspoons vanilla whipped  \n",
       "3                                                                                                                                                                                                                     1 1\\/2 1\\/3 2 almond baking bisquick butter chopped cup cups extract margarine mix nuts or powdered sugar tablespoons teaspoon water  \n",
       "4                                                                                                                                                                                                     1 1\\/2 1\\/4 1 1\\/2 3 4 brown butter cream cup eggs extract flour granulated milk of or powdered salt sugar tablespoons tartar teaspoon vanilla water  "
      ]
     },
     "execution_count": 2,
     "metadata": {},
     "output_type": "execute_result"
    }
   ],
   "source": [
    "if(\"reload\" not in globals()):\n",
    "    reload = True\n",
    "    \n",
    "if(reload):\n",
    "    db = pd.read_excel('recipeInfo/recipeInfo.xls',encoding='utf8')\n",
    "    \n",
    "    db2 = db.dropna(subset=['ingredients_bag-of-words'],axis=0)\n",
    "    \n",
    "    reload = False\n",
    "\n",
    "db2.head()"
   ]
  },
  {
   "cell_type": "markdown",
   "metadata": {},
   "source": [
    "This data represents recipes gathered from several cooking websites. It contains recipes entries with info such as the calories (fat,proteins,carb) and the ingredients.\n",
    "\n",
    "Our main focus will be the ingredients list of each recipe, from which we intend to collect an exhaustive list of ingredients.\n",
    "\n",
    "In the following code, we extract from the database what we are interested in:\n",
    "* the domain, ie the website from which the recipe is taken\n",
    "* the kcal columns (total,fat,carb,protein): we take recipes for which the calories are indicated, as this is the main focus of our analysis. Moreover we avoid recipes with unrealistic amounts of calories (>2500)\n",
    "* the ingredients_list column, that we then filter via Natural Language Processing"
   ]
  },
  {
   "cell_type": "code",
   "execution_count": 3,
   "metadata": {
    "collapsed": false
   },
   "outputs": [
    {
     "data": {
      "text/html": [
       "<div>\n",
       "<table border=\"1\" class=\"dataframe\">\n",
       "  <thead>\n",
       "    <tr style=\"text-align: right;\">\n",
       "      <th></th>\n",
       "      <th>domain</th>\n",
       "      <th>kcal_total</th>\n",
       "      <th>kcal_carb</th>\n",
       "      <th>kcal_protein</th>\n",
       "      <th>kcal_fat</th>\n",
       "      <th>ingredients_list</th>\n",
       "    </tr>\n",
       "  </thead>\n",
       "  <tbody>\n",
       "    <tr>\n",
       "      <th>0</th>\n",
       "      <td>recipes.sparkpeople.com</td>\n",
       "      <td>257</td>\n",
       "      <td>220</td>\n",
       "      <td>21</td>\n",
       "      <td>7</td>\n",
       "      <td>put one half cup of milk, 4 tablespoons of chocolate syrup, vanilla extract and ice to taste in whatever your using to blend it. blend until satisfied with the texture and serve.|now what are you waiting for?|go on! enjoy!</td>\n",
       "    </tr>\n",
       "    <tr>\n",
       "      <th>4</th>\n",
       "      <td>cdkitchen.com</td>\n",
       "      <td>192</td>\n",
       "      <td>120</td>\n",
       "      <td>12</td>\n",
       "      <td>63</td>\n",
       "      <td>1 1/2 cup brown sugar|1 cup water|3 eggs|4 tablespoons flour|1 cup milk|4 tablespoons butter|1 teaspoon vanilla extract|1/4 teaspoon salt|1/2 teaspoon cream of tartar|4 tablespoons granulated or powdered sugar</td>\n",
       "    </tr>\n",
       "    <tr>\n",
       "      <th>7</th>\n",
       "      <td>allrecipes.com</td>\n",
       "      <td>183</td>\n",
       "      <td>16</td>\n",
       "      <td>51</td>\n",
       "      <td>115</td>\n",
       "      <td>8 eggs|1 tablespoon mayonnaise|2 tablespoons prepared dijon-style mustard|1 teaspoon dried dill weed|1 teaspoon paprika|1/2 red onion, minced|salt and pepper to taste</td>\n",
       "    </tr>\n",
       "    <tr>\n",
       "      <th>8</th>\n",
       "      <td>food.com</td>\n",
       "      <td>1</td>\n",
       "      <td>0</td>\n",
       "      <td>0</td>\n",
       "      <td>0</td>\n",
       "      <td>1 cup red clover blossoms|2 tablespoons mint (spearmint or peppermint)|4 cups water</td>\n",
       "    </tr>\n",
       "    <tr>\n",
       "      <th>9</th>\n",
       "      <td>food.com</td>\n",
       "      <td>351</td>\n",
       "      <td>154</td>\n",
       "      <td>38</td>\n",
       "      <td>157</td>\n",
       "      <td>2 cups vanilla ice cream or 2 cups soy ice cream|1 1/4 cups 2% low-fat milk or 1 1/4 cups soymilk|1/4 teaspoon mint extract|8 drops green food coloring</td>\n",
       "    </tr>\n",
       "    <tr>\n",
       "      <th>...</th>\n",
       "      <td>...</td>\n",
       "      <td>...</td>\n",
       "      <td>...</td>\n",
       "      <td>...</td>\n",
       "      <td>...</td>\n",
       "      <td>...</td>\n",
       "    </tr>\n",
       "    <tr>\n",
       "      <th>65526</th>\n",
       "      <td>myrecipes.com</td>\n",
       "      <td>148</td>\n",
       "      <td>73</td>\n",
       "      <td>30</td>\n",
       "      <td>45</td>\n",
       "      <td>2 cups (8 ounces) shredded part-skim mozzarella cheese, divided|1/2 cup fat-free sour cream|1/4 cup (1 ounce) grated fresh parmesan cheese, divided|1/4 teaspoon black pepper|3 garlic cloves, crushed|1 (14-ounce) can artichoke hearts, drained and chopped|1 (8-ounce) block 1/3-less-fat cream cheese, softened|1 (8-ounce) block fat-free cream cheese, softened|1/2 (10-ounce) package frozen chopped spinach, thawed, drained, and squeezed dry|1 (13.5-ounce) package baked tortilla chips (about 16 cups)</td>\n",
       "    </tr>\n",
       "    <tr>\n",
       "      <th>65530</th>\n",
       "      <td>food.com</td>\n",
       "      <td>160</td>\n",
       "      <td>124</td>\n",
       "      <td>37</td>\n",
       "      <td>7</td>\n",
       "      <td>2 cups black beans|2 cups light red beans|2 cups pinto beans|1 (5 cup) bag frozen mixed peppers (green/red/yellow)|2 (29 ounce) cans tomato sauce</td>\n",
       "    </tr>\n",
       "    <tr>\n",
       "      <th>65531</th>\n",
       "      <td>food.com</td>\n",
       "      <td>613</td>\n",
       "      <td>306</td>\n",
       "      <td>111</td>\n",
       "      <td>198</td>\n",
       "      <td>1 tablespoon olive oil|1 large brown onion (finely chopped)|2 garlic cloves (crushed or minced)|1 1/4 cups dried split green peas (dried peas rinsed)|2 cups chicken stock|2 cups water (cold)|2 tablespoons lemon juice|125 g bacon (rashers shortcut rind removed)|1/2 teaspoon paprika (to serve)|4 crusty bread rolls (to serve, i used bacon and cheese)</td>\n",
       "    </tr>\n",
       "    <tr>\n",
       "      <th>65532</th>\n",
       "      <td>yummly.com</td>\n",
       "      <td>858</td>\n",
       "      <td>432</td>\n",
       "      <td>20</td>\n",
       "      <td>333</td>\n",
       "      <td>6 bartlett pear (firm)|750 mls dry red wine|1 vanilla bean (whole)|2 cinnamon sticks|2 bay leave|2 cups sugar|16 ozs mascarpone cheese|12 cup whipping cream|1 pinch cinnamon|12 cup icing sugar|2 tbsps butter</td>\n",
       "    </tr>\n",
       "    <tr>\n",
       "      <th>65534</th>\n",
       "      <td>food.com</td>\n",
       "      <td>352</td>\n",
       "      <td>76</td>\n",
       "      <td>129</td>\n",
       "      <td>140</td>\n",
       "      <td>4 boneless skinless chicken breasts|2 (10 3/4 ounce) cans broccoli cheese soup|2 cups milk|1 small onion, minced|1/2 teaspoon salt|1/4 teaspoon pepper|1/2 teaspoon dried basil</td>\n",
       "    </tr>\n",
       "  </tbody>\n",
       "</table>\n",
       "<p>34246 rows × 6 columns</p>\n",
       "</div>"
      ],
      "text/plain": [
       "                        domain  kcal_total  kcal_carb  kcal_protein  kcal_fat  \\\n",
       "0      recipes.sparkpeople.com         257        220            21         7   \n",
       "4                cdkitchen.com         192        120            12        63   \n",
       "7               allrecipes.com         183         16            51       115   \n",
       "8                     food.com           1          0             0         0   \n",
       "9                     food.com         351        154            38       157   \n",
       "...                        ...         ...        ...           ...       ...   \n",
       "65526            myrecipes.com         148         73            30        45   \n",
       "65530                 food.com         160        124            37         7   \n",
       "65531                 food.com         613        306           111       198   \n",
       "65532               yummly.com         858        432            20       333   \n",
       "65534                 food.com         352         76           129       140   \n",
       "\n",
       "                                                                                                                                                                                                                                                                                                                                                                                                                                                                                                         ingredients_list  \n",
       "0                                                                                                                                                                                                                                                                                          put one half cup of milk, 4 tablespoons of chocolate syrup, vanilla extract and ice to taste in whatever your using to blend it. blend until satisfied with the texture and serve.|now what are you waiting for?|go on! enjoy!  \n",
       "4                                                                                                                                                                                                                                                                                                       1 1/2 cup brown sugar|1 cup water|3 eggs|4 tablespoons flour|1 cup milk|4 tablespoons butter|1 teaspoon vanilla extract|1/4 teaspoon salt|1/2 teaspoon cream of tartar|4 tablespoons granulated or powdered sugar  \n",
       "7                                                                                                                                                                                                                                                                                                                                                  8 eggs|1 tablespoon mayonnaise|2 tablespoons prepared dijon-style mustard|1 teaspoon dried dill weed|1 teaspoon paprika|1/2 red onion, minced|salt and pepper to taste  \n",
       "8                                                                                                                                                                                                                                                                                                                                                                                                                                     1 cup red clover blossoms|2 tablespoons mint (spearmint or peppermint)|4 cups water  \n",
       "9                                                                                                                                                                                                                                                                                                                                                                 2 cups vanilla ice cream or 2 cups soy ice cream|1 1/4 cups 2% low-fat milk or 1 1/4 cups soymilk|1/4 teaspoon mint extract|8 drops green food coloring  \n",
       "...                                                                                                                                                                                                                                                                                                                                                                                                                                                                                                                   ...  \n",
       "65526  2 cups (8 ounces) shredded part-skim mozzarella cheese, divided|1/2 cup fat-free sour cream|1/4 cup (1 ounce) grated fresh parmesan cheese, divided|1/4 teaspoon black pepper|3 garlic cloves, crushed|1 (14-ounce) can artichoke hearts, drained and chopped|1 (8-ounce) block 1/3-less-fat cream cheese, softened|1 (8-ounce) block fat-free cream cheese, softened|1/2 (10-ounce) package frozen chopped spinach, thawed, drained, and squeezed dry|1 (13.5-ounce) package baked tortilla chips (about 16 cups)  \n",
       "65530                                                                                                                                                                                                                                                                                                                                                                   2 cups black beans|2 cups light red beans|2 cups pinto beans|1 (5 cup) bag frozen mixed peppers (green/red/yellow)|2 (29 ounce) cans tomato sauce  \n",
       "65531                                                                                                                                                       1 tablespoon olive oil|1 large brown onion (finely chopped)|2 garlic cloves (crushed or minced)|1 1/4 cups dried split green peas (dried peas rinsed)|2 cups chicken stock|2 cups water (cold)|2 tablespoons lemon juice|125 g bacon (rashers shortcut rind removed)|1/2 teaspoon paprika (to serve)|4 crusty bread rolls (to serve, i used bacon and cheese)  \n",
       "65532                                                                                                                                                                                                                                                                                                     6 bartlett pear (firm)|750 mls dry red wine|1 vanilla bean (whole)|2 cinnamon sticks|2 bay leave|2 cups sugar|16 ozs mascarpone cheese|12 cup whipping cream|1 pinch cinnamon|12 cup icing sugar|2 tbsps butter  \n",
       "65534                                                                                                                                                                                                                                                                                                                                     4 boneless skinless chicken breasts|2 (10 3/4 ounce) cans broccoli cheese soup|2 cups milk|1 small onion, minced|1/2 teaspoon salt|1/4 teaspoon pepper|1/2 teaspoon dried basil  \n",
       "\n",
       "[34246 rows x 6 columns]"
      ]
     },
     "execution_count": 3,
     "metadata": {},
     "output_type": "execute_result"
    }
   ],
   "source": [
    "db_recipes = db2[['domain','kcal_total','kcal_carb','kcal_protein',\n",
    "                  'kcal_fat','ingredients_list']].copy(deep=True)\n",
    "db_recipes['ingredients_list'] = db_recipes['ingredients_list'].str.lower()\n",
    "\n",
    "db_recipes = db_recipes[db_recipes['kcal_total']!='?']\n",
    "db_recipes = db_recipes[db_recipes['kcal_protein']!='?']\n",
    "db_recipes = db_recipes[db_recipes['kcal_carb']!='?']\n",
    "db_recipes = db_recipes[db_recipes['kcal_fat']!='?']\n",
    "db_recipes['kcal_total'] = db_recipes['kcal_total'].apply(lambda x: int(float(x)))\n",
    "db_recipes['kcal_fat'] = db_recipes['kcal_fat'].apply(lambda x: int(float(x)))\n",
    "db_recipes['kcal_carb'] = db_recipes['kcal_carb'].apply(lambda x: int(float(x)))\n",
    "db_recipes['kcal_protein'] = db_recipes['kcal_protein'].apply(lambda x: int(float(x)))\n",
    "db_recipes = db_recipes[db_recipes['kcal_total']<=2500]\n",
    "\n",
    "db_recipes"
   ]
  },
  {
   "cell_type": "markdown",
   "metadata": {},
   "source": [
    "## Natural Language Processing\n",
    "\n",
    "To process the ingredients_list column and extract a relevant list of ingredients, we need a database of foods. We could not find any satisfying database so we started from http://openfood.schoolofdata.ch/food-composition-ch/, to which we manually added words that could appear in recipes but were not in the database:\n",
    "* different cheese names (gorgonzola,...)\n",
    "* different pasta names (spaghetti,...)\n",
    "* different types of sauce (ketchup,...)\n",
    "* usual types of meat (bacon,...)\n",
    "\n",
    "The relevant ingredients data is saved under foods_db.csv.\n",
    "\n",
    "Each ingredient also has an entry food_group (Dairy, Vegetables, Cereals,...)."
   ]
  },
  {
   "cell_type": "code",
   "execution_count": null,
   "metadata": {
    "collapsed": false
   },
   "outputs": [
    {
     "data": {
      "text/html": [
       "<div>\n",
       "<table border=\"1\" class=\"dataframe\">\n",
       "  <thead>\n",
       "    <tr style=\"text-align: right;\">\n",
       "      <th></th>\n",
       "      <th>name</th>\n",
       "      <th>food_group</th>\n",
       "    </tr>\n",
       "  </thead>\n",
       "  <tbody>\n",
       "    <tr>\n",
       "      <th>0</th>\n",
       "      <td>mixed cereals and nuts</td>\n",
       "      <td>cereals &amp; nuts</td>\n",
       "    </tr>\n",
       "    <tr>\n",
       "      <th>1</th>\n",
       "      <td>worcestershire sauce</td>\n",
       "      <td>condiment</td>\n",
       "    </tr>\n",
       "    <tr>\n",
       "      <th>2</th>\n",
       "      <td>jerusalem artichoke</td>\n",
       "      <td>vegetables</td>\n",
       "    </tr>\n",
       "    <tr>\n",
       "      <th>3</th>\n",
       "      <td>parmigiano-reggiano</td>\n",
       "      <td>dairy</td>\n",
       "    </tr>\n",
       "    <tr>\n",
       "      <th>4</th>\n",
       "      <td>macaroni and cheese</td>\n",
       "      <td>cereals &amp; nuts</td>\n",
       "    </tr>\n",
       "  </tbody>\n",
       "</table>\n",
       "</div>"
      ],
      "text/plain": [
       "                     name      food_group\n",
       "0  mixed cereals and nuts  cereals & nuts\n",
       "1    worcestershire sauce       condiment\n",
       "2     jerusalem artichoke      vegetables\n",
       "3     parmigiano-reggiano           dairy\n",
       "4     macaroni and cheese  cereals & nuts"
      ]
     },
     "execution_count": 4,
     "metadata": {},
     "output_type": "execute_result"
    }
   ],
   "source": [
    "db_foods = pd.read_csv('recipeInfo/foods_db.csv',encoding='latin1')[['name','food_group']]\n",
    "db_foods['name'] = db_foods['name'].str.lower()\n",
    "db_foods['food_group'] = db_foods['food_group'].str.lower()\n",
    "\n",
    "#sort by length\n",
    "db_foods.index = db_foods['name'].str.len()\n",
    "db_foods = db_foods.sort_index(ascending=False).reset_index(drop=True)\n",
    "\n",
    "# create foods list\n",
    "foods_list = db_foods['name'].tolist()\n",
    "\n",
    "db_foods.head()"
   ]
  },
  {
   "cell_type": "markdown",
   "metadata": {},
   "source": [
    "### The algorithm\n",
    "\n",
    "The algorithm works as follows:\n",
    "* for each ingredients_list (type:str) in the database:\n",
    "    * remove from the string irrelevant words which can be confused with ingredients ('teaspoon' could be matched as 'tea', 'virgin' could be matched as 'gin',...)\n",
    "    * for each food in our NLP database:\n",
    "        * if we **identify** the word in the string, it is added to the list of ingredients and also deleted in the string\n",
    "\n",
    "\n",
    "For the algorithm to work as correctly as possible, the following tricks are used:\n",
    "* the list of foods is **sorted by decreasing length**. This way, if 'black pepper' is found, it is deleted from the string and then 'pepper' will not be identified as an ingredient\n",
    "* To **identify** a food, we look for the word followed by a separator (' ', ',', '|') but also if it appears in its **plural form**, which implies taking into account the irregular plural forms ('berr-ies' for berr-y', 'tomato-es' for 'tomat-o',...)."
   ]
  },
  {
   "cell_type": "code",
   "execution_count": null,
   "metadata": {
    "collapsed": true
   },
   "outputs": [],
   "source": [
    "non_foods_list = ['teaspsoon','teaspooons','teaspooon','teasopoon','teaspoons',\n",
    "                  'teaspoon','teas.','virgin']\n",
    "\n",
    "def match_foods(x):\n",
    "    ret_list = []\n",
    "    x_copy = x + ' '\n",
    "    for non_food in non_foods_list:\n",
    "        x_copy = x_copy.replace(non_food,'')\n",
    "    for food in foods_list:\n",
    "        if food.endswith('y'):\n",
    "            if ((food+' ') in x_copy or (food+',') in x_copy or\n",
    "            (food+'|') in x_copy or (food[:-1]+'ies') in x_copy or\n",
    "            (food+'s') in x_copy):\n",
    "                ret_list.append(food)\n",
    "                x_copy = x_copy.replace(food[:-1],'///') \n",
    "        elif food.endswith('o'):\n",
    "            if ((food+' ') in x_copy or (food+',') in x_copy or\n",
    "            (food+'|') in x_copy or (food+'es') in x_copy or\n",
    "            (food+'s') in x_copy):\n",
    "                ret_list.append(food)\n",
    "                x_copy = x_copy.replace(food[:-1],'///')\n",
    "        elif food.endswith('h'):\n",
    "            if ((food+' ') in x_copy or (food+',') in x_copy or\n",
    "            (food+'|') in x_copy or (food+'es') in x_copy or\n",
    "            (food+'s') in x_copy):\n",
    "                ret_list.append(food)\n",
    "                x_copy = x_copy.replace(food[:-1],'///')\n",
    "        elif food.endswith('f'):\n",
    "            if ((food+' ') in x_copy or (food+',') in x_copy or\n",
    "            (food+'|') in x_copy or (food[:-1]+'ves') in x_copy or\n",
    "            (food+'s') in x_copy):\n",
    "                ret_list.append(food)\n",
    "                x_copy = x_copy.replace(food[:-1],'///')   \n",
    "        else: \n",
    "            if ((food+' ') in x_copy or (food+',') in x_copy or\n",
    "            (food+'|') in x_copy or (food+'s') in x_copy):\n",
    "                ret_list.append(food)\n",
    "                x_copy = x_copy.replace(food,'///')\n",
    "                \n",
    "    return ret_list\n",
    "\n",
    "db_recipes['ingredients'] = db_recipes['ingredients_list'].apply(match_foods)"
   ]
  },
  {
   "cell_type": "markdown",
   "metadata": {},
   "source": [
    "We delete the recipes where no ingredients have been identified. It can happen for several reasons:\n",
    "* the entry is invalid: the recipes have been automatically scraped from the websites, and it may happen that the ingredients part does not contain the right info\n",
    "* all recipes found in the database are not food related. For instance there are some recipes for soap."
   ]
  },
  {
   "cell_type": "code",
   "execution_count": null,
   "metadata": {
    "collapsed": false,
    "scrolled": true
   },
   "outputs": [],
   "source": [
    "db_recipes['no_ingredients']=db_recipes['ingredients'].apply( lambda x: x==[])\n",
    "db_recipes = db_recipes[~db_recipes['no_ingredients']]\n",
    "db_recipes = db_recipes[['domain','kcal_total','kcal_carb','kcal_protein',\n",
    "                  'kcal_fat','ingredients_list','ingredients']].reset_index(drop=True)\n",
    "db_recipes.head()"
   ]
  },
  {
   "cell_type": "markdown",
   "metadata": {},
   "source": [
    "## Exploratory Analysis\n",
    "\n",
    "### Data origin"
   ]
  },
  {
   "cell_type": "code",
   "execution_count": null,
   "metadata": {
    "collapsed": false,
    "scrolled": true
   },
   "outputs": [],
   "source": [
    "db_recipes.groupby(db_recipes['domain'])['kcal_total'].count().plot.barh(title=\"Data origin\\n number of recipes by website\", color=['steelblue'])\n",
    "plt.show()"
   ]
  },
  {
   "cell_type": "markdown",
   "metadata": {},
   "source": [
    "We first have a look at the origin of the data: it mostly comes from 3 websites (*allrecipes.com*, *food.com* and *foodnetwork.com*).\n",
    "\n",
    "Note that we **do not** look at all the data (like mg_sodium, mg_cholesterol,...) because it is simply not all of use for our project."
   ]
  },
  {
   "cell_type": "markdown",
   "metadata": {},
   "source": [
    "### Occurencies of ingredients"
   ]
  },
  {
   "cell_type": "code",
   "execution_count": null,
   "metadata": {
    "collapsed": false,
    "scrolled": true
   },
   "outputs": [],
   "source": [
    "count = [0]*len(foods_list)\n",
    "\n",
    "def count_food(x):\n",
    "    for food in x:\n",
    "        count[foods_list.index(food)] += 1\n",
    "db_recipes['ingredients'].apply(count_food)\n",
    "\n",
    "db_foods['count'] = count\n",
    "db_foods.head()"
   ]
  },
  {
   "cell_type": "code",
   "execution_count": null,
   "metadata": {
    "collapsed": false
   },
   "outputs": [],
   "source": [
    "X = [x+1 for x in range(len(db_foods))]\n",
    "Y = list(db_foods['count'])\n",
    "Y.sort(reverse=True)\n",
    "Y2 = [ Y[0]/(x+1) for x in range(len(db_foods))]\n",
    "\n",
    "\n",
    "plt.figure()\n",
    "plt.loglog(X,Y,'.', color='steelblue')\n",
    "plt.loglog(X,Y2, color='red', label='Zipf model') # Zipf estimate\n",
    "plt.xlabel('Words (log scale)')\n",
    "plt.ylabel('Number of occurencies (log scale)')\n",
    "plt.title('Sorted occurencies of words (log scale)')\n",
    "plt.legend()\n",
    "plt.show()\n",
    "\n",
    "plt.figure()\n",
    "plt.plot(X[:300],Y[:300],'.', color='steelblue')\n",
    "plt.plot(X[:300],Y2[:300], color='red', label='Zipf model') # Zipf estimate\n",
    "plt.xlabel('Words')\n",
    "plt.ylabel('Number of occurencies')\n",
    "plt.title('Sorted occurencies of words')\n",
    "plt.legend()\n",
    "plt.show()"
   ]
  },
  {
   "cell_type": "markdown",
   "metadata": {},
   "source": [
    "We look at the occurencies of words. Considering that it is a large amount of textual data, we could expect our word distribution to respect the **Zipf Law** (https://en.wikipedia.org/wiki/Zipf%27s_law). It states that if we sort the words by their frequencies (*w_1*,...,*w_N*) such that *f_1*>...*f_N*, they will respect an inverse distribution: *f_i*=*1/i* for all *i*.\n",
    "\n",
    "On this **logarithmic scale**, we observe that our distribution is relatively different. The frequencies do not decrease so sharply, and there is a smoother distribution of frequencies."
   ]
  },
  {
   "cell_type": "markdown",
   "metadata": {},
   "source": [
    "### Words by occurencies"
   ]
  },
  {
   "cell_type": "code",
   "execution_count": null,
   "metadata": {
    "collapsed": false
   },
   "outputs": [],
   "source": [
    "from collections import Counter\n",
    "\n",
    "occ_counter = Counter(list(db_foods['count']))\n",
    "X = [ x for (x,_) in occ_counter.most_common()]\n",
    "Y = [ y for (_,y) in occ_counter.most_common()]\n",
    "\n",
    "plt.figure()\n",
    "plt.loglog(X,Y,'.',color='royalblue')\n",
    "plt.xlabel('Occurency')\n",
    "plt.ylabel('Number of distinct words')\n",
    "plt.title('Number of words by occurency (log scale)')\n",
    "plt.show()"
   ]
  },
  {
   "cell_type": "markdown",
   "metadata": {},
   "source": [
    "In this graph, we illustrate how **a lot of words are used a few times**, while for a high occurency only a few words are used that many often.\n",
    "\n",
    "This also means that at some point we will have to decide if it reasonable to keep ingredients that are only mentioned one rare time, in order to decrease the size of the data."
   ]
  },
  {
   "cell_type": "markdown",
   "metadata": {},
   "source": [
    "### Cumulative words by occurency"
   ]
  },
  {
   "cell_type": "code",
   "execution_count": null,
   "metadata": {
    "collapsed": false
   },
   "outputs": [],
   "source": [
    "occ_counter = Counter(list(db_foods['count']))\n",
    "X = [ x for (x,_) in sorted(occ_counter.items())]\n",
    "Y = [ y for (_,y) in sorted(occ_counter.items())]\n",
    "for i in range(1,len(Y)):\n",
    "    Y[i] += Y[i-1]\n",
    "\n",
    "    \n",
    "plt.plot(X,Y,color='royalblue')\n",
    "plt.plot((1,X[-1]),(Y[-1],Y[-1]), color='red', label='limit')\n",
    "plt.xlabel(\"Occurency\")\n",
    "plt.ylabel(\"Cumulative number of distinct words\")\n",
    "plt.title('Cumulative number of words by occurency')\n",
    "plt.legend(bbox_to_anchor=(1.05, 1), loc=2)\n",
    "plt.show()\n",
    "\n",
    "plt.figure()\n",
    "plt.plot(X[:250],Y[:250],color='royalblue')\n",
    "plt.plot((1,X[250]),(Y[-1],Y[-1]), color='red', label='limit')\n",
    "plt.xlabel(\"Occurency\")\n",
    "plt.ylabel(\"Cumulative number of distinct words\")\n",
    "plt.title('ZOOM')\n",
    "plt.legend(bbox_to_anchor=(1.05, 1), loc=2)\n",
    "plt.show()"
   ]
  },
  {
   "cell_type": "markdown",
   "metadata": {},
   "source": [
    "On this graph we observe that the number of words with less than a given number of occurencies quickly converges to its limit, meaning that **there are few words with a lot of occurencies**."
   ]
  },
  {
   "cell_type": "markdown",
   "metadata": {},
   "source": [
    "### A look at the calories"
   ]
  },
  {
   "cell_type": "code",
   "execution_count": null,
   "metadata": {
    "collapsed": false
   },
   "outputs": [],
   "source": [
    "db_recipes['kcal_total'].describe()"
   ]
  },
  {
   "cell_type": "code",
   "execution_count": null,
   "metadata": {
    "collapsed": false
   },
   "outputs": [],
   "source": [
    "db_recipes['kcal_total'].plot.hist( bins=60, color='orange',title='Calories distribution\\namong recipes')\n",
    "plt.xlabel('kcal')\n",
    "plt.show()\n",
    "\n",
    "db_recipes[['kcal_protein']].plot.hist( bins=60, color='coral',title='Protein calories distribution\\namong recipes')\n",
    "plt.xlabel('proteins (kcal)')\n",
    "plt.show()\n",
    "\n",
    "db_recipes['kcal_carb'].plot.hist( bins=60, color='royalblue',title='Carb calories distribution\\namong recipes')\n",
    "plt.xlabel('carbs (kcal)')\n",
    "plt.show()\n",
    "\n",
    "db_recipes['kcal_fat'].plot.hist( bins=60, color='lightgreen',title='Fat calories distribution\\namong recipes')\n",
    "plt.xlabel('fat (kcal)')\n",
    "plt.show()"
   ]
  },
  {
   "cell_type": "markdown",
   "metadata": {},
   "source": [
    "As stated before, we focus on recipes with less than 2500 kcal.\n",
    "\n",
    "We see that the calories distribution is concentrated around its mean.\n",
    "More than 75% of the recipes count less than 422 kcal.\n",
    "\n",
    "The repartition for carbs, fat and proteins is quite similar, very dense near the mean. We observe however that proteins tend to count as fewer calories among recipes than carbs and fat."
   ]
  },
  {
   "cell_type": "markdown",
   "metadata": {},
   "source": [
    "## Grouping the recipes\n",
    "\n",
    "To visually represent the data in calories graphes, we want to group the recipes in several groups. We would have liked to use some kind of well-known grouping such as starters, main plates, desserts, but the database does not contain this info.\n",
    "\n",
    "To group the recipes, we choose to use the data of the ingredients food_groups. Each ingredient belongs to a food_group among the 11 possible (vegetables, meat,...). For each recipe, we put to 1 each food group to which at least one ingredient of the recipe belongs to. Thus each recipe is assigned a tuple {0,1}^11.\n",
    "\n",
    "We then use a clustering algorithm to create the final groups"
   ]
  },
  {
   "cell_type": "markdown",
   "metadata": {},
   "source": [
    "### Create the data\n",
    "\n",
    "The data of group belonging for each recipe is set in the matrix M."
   ]
  },
  {
   "cell_type": "code",
   "execution_count": null,
   "metadata": {
    "collapsed": false
   },
   "outputs": [],
   "source": [
    "groupe_idx = {'beverages':0, 'cereals & nuts':1, 'confectioneries':2,\n",
    "             'condiment':3, 'dairy':4, 'eggs':5, 'fats & oils':6,\n",
    "             'fruits':7, 'meat':8, 'herbs & spices':9, 'vegetables':10}\n",
    "db_foods['group_idx'] = db_foods['food_group'].apply( lambda x: groupe_idx[x])\n",
    "db_foods"
   ]
  },
  {
   "cell_type": "code",
   "execution_count": null,
   "metadata": {
    "collapsed": true
   },
   "outputs": [],
   "source": [
    "M = [[0 for _ in range(11)] for _ in range(len(db_recipes))]\n",
    "for i in range(len(db_recipes)):\n",
    "    for food in db_recipes.loc[i,'ingredients']:\n",
    "        j = db_foods.loc[db_foods.index[db_foods['name']==food][0],'group_idx']\n",
    "        M[i][j] = 1"
   ]
  },
  {
   "cell_type": "markdown",
   "metadata": {},
   "source": [
    "### Clustering algorithm\n",
    "\n",
    "We use a **K-means clustering** algorithm to create our recipe groups.\n",
    "Starting from K random means, we assign each recipe to the closest mean (the distance being defined as the sum of differences over the 11 elements). Then each mean is updated to correspond to the effective mean of the elements assigned to this mean.\n",
    "\n",
    "In practice, though recipes get values in {0,1}^11, the **means have real values** in [0,1]^11 to get the best possible clustering.\n",
    "\n",
    "Moreover, after having tested different values of K to study the convergence of the groups, we set the **option to fix the initial means**, for reproducibility.\n"
   ]
  },
  {
   "cell_type": "code",
   "execution_count": null,
   "metadata": {
    "collapsed": false
   },
   "outputs": [],
   "source": [
    "import random as rd\n",
    "\n",
    "def d(x,y):\n",
    "    dist=0\n",
    "    for i in range(len(x)):\n",
    "        dist += abs(x[i]-y[i])\n",
    "    return dist\n",
    "\n",
    "def k_cluster(k,M,means=[]):\n",
    "    if means == []:\n",
    "        means = [[rd.randint(0,1) for _ in range(11)] for _ in range(k)]\n",
    "    assign = [0 for _ in range(len(M))]\n",
    "    fixed_point = False\n",
    "    nb_turns = 0\n",
    "    \n",
    "    def update_assign(i):\n",
    "        updated = False\n",
    "        pre_mean = d(M[i],means[assign[i]])\n",
    "        for j in range(k):\n",
    "            if d(M[i],means[j])<pre_mean:\n",
    "                assign[i]=j\n",
    "                pre_mean = d(M[i],means[assign[i]])\n",
    "                updated = True\n",
    "        return updated\n",
    "    \n",
    "    def update_mean(j):\n",
    "        number_assign = 0\n",
    "        new_mean = [0 for _ in range(11)]\n",
    "        for i in range(len(M)):\n",
    "            if assign[i]==j:\n",
    "                number_assign += 1\n",
    "                for l in range(11):\n",
    "                    new_mean[l] += M[i][l]\n",
    "        for l in range(11):\n",
    "            new_mean[l] = new_mean[l]/number_assign\n",
    "            \n",
    "        means[j]=new_mean\n",
    "                \n",
    "    \n",
    "    while not(fixed_point):\n",
    "        nb_turns += 1\n",
    "        fixed_point = True\n",
    "        #update assign\n",
    "        for i in range(len(M)):\n",
    "            if update_assign(i):\n",
    "                fixed_point = False\n",
    "                \n",
    "        #update means\n",
    "        for j in range(k):\n",
    "            update_mean(j)\n",
    "    \n",
    "    print(\"Convergence in \",nb_turns,\"turns\")\n",
    "    return means,assign\n",
    "\n",
    "# Fixed initial means after tests\n",
    "init_means = [[0,1,1,0,1,1,0,0,0,1,0],\n",
    "              [0,1,1,0,1,0,0,1,0,1,0],\n",
    "              [0,1,0,1,1,0,0,0,1,1,1],\n",
    "              [0,0,0,1,0,0,1,0,1,1,1]]\n",
    "\n",
    "means,recipe_group = k_cluster(4,M,init_means)"
   ]
  },
  {
   "cell_type": "markdown",
   "metadata": {},
   "source": [
    "Note that here the initial means are fixed because the tests for the best K have already been done. Although it converges for K=4, it is crucial to fix the initial means to keep the same order for the rest of the study\n",
    "\n",
    "The following code displays the final means obtained after the clustering. The food groups order is given to understand the analysis of the groups."
   ]
  },
  {
   "cell_type": "code",
   "execution_count": null,
   "metadata": {
    "collapsed": false
   },
   "outputs": [],
   "source": [
    "mean_db = pd.DataFrame(means)\n",
    "mean_db.columns = 'beverages, cereals & nuts, confectioneries, condiment, dairy, eggs, fats & oils, fruits, meat, herbs & spices, vegetables'.split(',')\n",
    "\"\"\"def display_mean(mean):\n",
    "    string = ''\n",
    "    for l in range(11):\n",
    "        string += \"{0:.2f}\".format(mean[l])\n",
    "        string += ', '\n",
    "    print(string)\n",
    "\n",
    "print('beverages, cereals & nuts, confectioneries, condiment, dairy, eggs, fats & oils, fruits, meat, herbs & spices, vegetables')\n",
    "for mean in means:\n",
    "    display_mean(mean)\n",
    "\"\"\"\n",
    "mean_db"
   ]
  },
  {
   "cell_type": "markdown",
   "metadata": {},
   "source": [
    "After several tests, the **more meaningful number of groups seems to be 4**.\n",
    "By meaningful, we mean that we can visualize what the groups represent. Recall that the output of the algorithm is the assignement vector for each recipe, and the mean vectors. We then need to interpret the meaning of those means:\n",
    "* the first group represents desserts based on complex preparations, mostly with eggs and flour or other cereal base, such as pies, cakes, muffins,...\n",
    "* the second group represents more simple desserts, with fewer ingredients and more fruit-based, such as fruit salads, baked apples,... but also chocolate mousse,...\n",
    "* the third group consists in complex prepared meals, with meat and vegetables. It uses a lot of different food groups (eggs, dairy, fats) and can for example be stews, boeuf bourguignon,...\n",
    "* the last group is easy-to-do dishes with meat and vegetables. It uses more condiments (mustard, sauces,...) and can be bolognese pasta, hot-dogs,...\n"
   ]
  },
  {
   "cell_type": "code",
   "execution_count": null,
   "metadata": {
    "collapsed": false
   },
   "outputs": [],
   "source": [
    "group_color = ['steelblue','lightgreen','tomato','orange']\n",
    "recipe_color = [ group_color[x] for x in recipe_group]\n",
    "\n",
    "db_recipes['group'] = recipe_group\n",
    "db_recipes['group_color'] = recipe_color\n",
    "db_recipes[['ingredients','group','group_color']]"
   ]
  },
  {
   "cell_type": "markdown",
   "metadata": {},
   "source": [
    "## Group plotting and analysis\n",
    "\n",
    "We now look at **characterizing** the groups by the calories (fat,carb,proteins,total) values of the recipes."
   ]
  },
  {
   "cell_type": "code",
   "execution_count": null,
   "metadata": {
    "collapsed": false
   },
   "outputs": [],
   "source": [
    "db_recipes.groupby(db_recipes['group'])[['kcal_total']].describe()"
   ]
  },
  {
   "cell_type": "code",
   "execution_count": null,
   "metadata": {
    "collapsed": false
   },
   "outputs": [],
   "source": [
    "import seaborn as sns\n",
    "sns.set()\n",
    "palette = sns.color_palette(group_color)\n",
    "sns.set_palette(palette)\n",
    "\n",
    "fig = plt.figure(figsize=(20,20))\n",
    "sns.violinplot(y='kcal_total',x='group', data=db_recipes, scale='count', inner='quartile', linewidth=2)\n",
    "plt.tick_params(axis='both', labelsize=30)\n",
    "plt.xlabel('group',fontsize=30)\n",
    "plt.ylabel('total calories',fontsize=30)\n",
    "plt.title('Calories distributions among the recipe groups', fontsize=40)\n",
    "\n",
    "fig.savefig('total_kcal distrib.png')\n",
    "plt.show()"
   ]
  },
  {
   "cell_type": "markdown",
   "metadata": {},
   "source": [
    "We see that more complex recipes (0,2) have more calories than their simpler counterparts (respectively 1,3). \n",
    "\n",
    "Moreover, quite surprisingly, **main courses recipes** (2,3) **are in average more calorific than dessert recipes** (0,1). They also have more recipes with very high calories, compared to dessert recipes.\n",
    "\n",
    "This could be linked to desserts often considered full of fats and sugar, thus pushing people to develop and publish a lot of low-fat, low-calories dessert recipes in the 2010's. It also comes with the fact that there are a lot of subtitutes for sugar, milk and eggs."
   ]
  },
  {
   "cell_type": "code",
   "execution_count": null,
   "metadata": {
    "collapsed": false
   },
   "outputs": [],
   "source": [
    "db_recipes['carb_prop'] = db_recipes['kcal_carb']/db_recipes['kcal_total']\n",
    "db_recipes['protein_prop'] = db_recipes['kcal_protein']/db_recipes['kcal_total']\n",
    "db_recipes['fat_prop'] = db_recipes['kcal_fat']/db_recipes['kcal_total']\n",
    "\n",
    "db_recipes = db_recipes[db_recipes['carb_prop']<1]\n",
    "db_recipes = db_recipes[db_recipes['protein_prop']<1]\n",
    "db_recipes = db_recipes[db_recipes['fat_prop']<1]\n",
    "\n",
    "db_recipes[['carb_prop','protein_prop','fat_prop','ingredients','group']]"
   ]
  },
  {
   "cell_type": "markdown",
   "metadata": {},
   "source": [
    "To study in detail the calories distribution, we cannot compare the raw data of kcal_fat,kcal_carb,kcal_protein because the portions in recipes are not consistent. Even though the data should contained information *per serving*, there is still outliers. We cannot compare a recipe of burgers for 2 people and a chocolate cake for 8 people. **We thus use the proportion of fat, carb and proteins in the total number of calories**."
   ]
  },
  {
   "cell_type": "code",
   "execution_count": null,
   "metadata": {
    "collapsed": false
   },
   "outputs": [],
   "source": [
    "pd.options.display.max_rows = 34\n",
    "db_recipes.groupby(db_recipes['group'])[['carb_prop','protein_prop','fat_prop']].describe()"
   ]
  },
  {
   "cell_type": "code",
   "execution_count": null,
   "metadata": {
    "collapsed": false,
    "scrolled": false
   },
   "outputs": [],
   "source": [
    "fig = plt.figure(figsize=(20,20))\n",
    "sns.violinplot(y='carb_prop',x='group', data=db_recipes, scale='count', inner='quartile', linewidth=2)\n",
    "plt.tick_params(axis='both', labelsize=30)\n",
    "plt.xlabel('group',fontsize=30)\n",
    "plt.ylabel('carb proportion',fontsize=30)\n",
    "plt.title('Carb proportion distributions among the recipe groups', fontsize=40)\n",
    "fig.savefig('carb_prop distrib.png')\n",
    "plt.show()"
   ]
  },
  {
   "cell_type": "markdown",
   "metadata": {},
   "source": [
    "We observe very different distributions of the carb proportion:\n",
    "* group 0 is pretty gathered around its mean, which is quite high. It seems complex desserts have high rates of carbs.\n",
    "* group 1 is quite regular: there is almost a uniform distribution of carb proportions. Thus simple desserts are not characterized by their carb rate.\n",
    "* group 2 and 3 have pretty low carb rates compared to the desserts groups. However simple main courses (3) can get to a high rate of carbs."
   ]
  },
  {
   "cell_type": "code",
   "execution_count": null,
   "metadata": {
    "collapsed": false,
    "scrolled": false
   },
   "outputs": [],
   "source": [
    "fig = plt.figure(figsize=(20,20))\n",
    "sns.violinplot(y='protein_prop',x='group', data=db_recipes, scale='count', inner='quartile', linewidth=2)\n",
    "plt.tick_params(axis='both', labelsize=30)\n",
    "plt.xlabel('group',fontsize=30)\n",
    "plt.ylabel('proteins proportion',fontsize=30)\n",
    "plt.title('Proteins proportion distributions among the recipe groups', fontsize=40)\n",
    "fig.savefig('protein_prop distrib.png')\n",
    "plt.show()"
   ]
  },
  {
   "cell_type": "markdown",
   "metadata": {},
   "source": [
    "For the proteins distribution, we can observe a great distinction between the desserts (0,1) and the main courses (2,3). The desserts have very low rates of proteins, and very centered around the mean.\n",
    "\n",
    "The proteins proportion is sparse for the 2nd group, and even more spread for the 3rd group."
   ]
  },
  {
   "cell_type": "code",
   "execution_count": null,
   "metadata": {
    "collapsed": false
   },
   "outputs": [],
   "source": [
    "fig = plt.figure(figsize=(20,20))\n",
    "sns.violinplot(y='fat_prop',x='group', data=db_recipes, scale='count', inner='quartile', linewidth=2)\n",
    "plt.tick_params(axis='both', labelsize=30)\n",
    "plt.xlabel('group',fontsize=30)\n",
    "plt.ylabel('fat proportion',fontsize=30)\n",
    "plt.title('Fat proportion distributions among the recipe groups', fontsize=40)\n",
    "fig.savefig('fat_prop distrib.png')\n",
    "plt.show()"
   ]
  },
  {
   "cell_type": "markdown",
   "metadata": {},
   "source": [
    "The fat proportions are quite different among groups too. For group 1, the distribution is relatively uniform, a bit \"squeezed\" aroun the first quartile.\n",
    "\n",
    "The distribution for group 0 is symmetric around the mean at 0.4, whereas distributions for groups 2,3 are more spread.\n",
    "\n",
    "We also observe that complex recipes (0,2) have in average a higher fat rate than more simpler recipes (1,3)."
   ]
  },
  {
   "cell_type": "markdown",
   "metadata": {},
   "source": [
    "## Propensity scores to assess the characterization\n",
    "\n",
    "We will use logistic regression on the 2 following attributes: 'is main course?' and 'is simple?'.\n",
    "\n",
    "It is relevant here because we can cut our 4 groups according to those 2 treatments:\n",
    "* group 0 corresponds to 0,0\n",
    "* group 1 corresponds to 0,1\n",
    "* group 2 corresponds to 1,0\n",
    "* group 3 corresponds to 1,1\n",
    "\n",
    "Thus we apply two logistic regressions and obtain propensity scores corresponding to the 2 treatments."
   ]
  },
  {
   "cell_type": "code",
   "execution_count": null,
   "metadata": {
    "collapsed": false
   },
   "outputs": [],
   "source": [
    "from sklearn import linear_model\n",
    "\n",
    "# Logistic for dessert=0, main course=1\n",
    "logistic = linear_model.LogisticRegression()\n",
    "\n",
    "db_X = db_recipes[['protein_prop','carb_prop','fat_prop']]\n",
    "db_y = db_recipes['group'].apply(lambda x: 0 if x in [0,1] else 1)\n",
    "\n",
    "logistic = logistic.fit(db_X, db_y)\n",
    "\n",
    "prop_score = logistic.predict_proba(db_X)[:,1]\n",
    "db_recipes['is_main_course'] = prop_score\n",
    "\n",
    "# Logistic for complex=0, simple=1\n",
    "logistic = linear_model.LogisticRegression()\n",
    "\n",
    "db_X = db_recipes[['protein_prop','carb_prop','fat_prop']]\n",
    "db_y = db_recipes['group'].apply(lambda x: 0 if x in [0,2] else 1)\n",
    "\n",
    "logistic = logistic.fit(db_X, db_y)\n",
    "\n",
    "prop_score = logistic.predict_proba(db_X)[:,1]\n",
    "db_recipes['is_simple'] = prop_score\n",
    "\n",
    "db_recipes[['group','is_main_course','is_simple']].head()"
   ]
  },
  {
   "cell_type": "code",
   "execution_count": null,
   "metadata": {
    "collapsed": false,
    "scrolled": false
   },
   "outputs": [],
   "source": [
    "db_0 = db_recipes[db_recipes['group']==0]\n",
    "db_1 = db_recipes[db_recipes['group']==1]\n",
    "db_2 = db_recipes[db_recipes['group']==2]\n",
    "db_3 = db_recipes[db_recipes['group']==3]\n",
    "\n",
    "f,((ax0,ax1),(ax2,ax3)) = plt.subplots(2,2,figsize=(20,20))\n",
    "\n",
    "f.suptitle(\"Propensity scores and the target values\", fontsize=30)\n",
    "\n",
    "ax0.axis('equal')\n",
    "ax0.set_xlim(-0.1,1.1)\n",
    "ax0.add_patch(patches.Rectangle((0, 0), 0.5, 0.5,alpha=0.3,facecolor='steelblue'))\n",
    "sns.kdeplot(db_0['is_main_course'],db_0['is_simple'],cmap=\"Blues\",n_levels=10,shade=True,ax=ax0)\n",
    "ax0.collections[0].set_alpha(0)\n",
    "ax0.tick_params(axis='both', labelsize=20)\n",
    "ax0.set_title('Group 0', fontsize=30)\n",
    "\n",
    "ax1.axis('equal')\n",
    "ax1.set_xlim(-0.1,1.1)\n",
    "ax1.add_patch(patches.Rectangle((0, 0.5), 0.5, 0.5,alpha=0.3,facecolor='lightgreen'))\n",
    "sns.kdeplot(db_1['is_main_course'],db_1['is_simple'],cmap=\"Greens\",n_levels=10,shade=True,ax=ax1)\n",
    "ax1.collections[0].set_alpha(0)\n",
    "ax1.tick_params(axis='both', labelsize=20)\n",
    "ax1.set_title('Group 1', fontsize=30)\n",
    "\n",
    "ax2.set_xlim(-0.1,1.1)\n",
    "ax2.axis('equal')\n",
    "ax2.add_patch(patches.Rectangle((0.5, 0), 0.5, 0.5,alpha=0.3,facecolor='coral'))\n",
    "sns.kdeplot(db_2['is_main_course'],db_2['is_simple'],cmap=\"Reds\",n_levels=10,shade=True,ax=ax2)\n",
    "ax2.collections[0].set_alpha(0)\n",
    "ax2.tick_params(axis='both', labelsize=20)\n",
    "ax2.set_title('Group 2', fontsize=30)\n",
    "\n",
    "ax3.set_xlim(-0.1,1.1)\n",
    "ax3.axis('equal')\n",
    "ax3.add_patch(patches.Rectangle((0.5, 0.5), 0.5, 0.5,alpha=0.3,facecolor='orange'))\n",
    "sns.kdeplot(db_3['is_main_course'],db_3['is_simple'],cmap=\"YlOrBr\",n_levels=10,shade=True,ax=ax3)\n",
    "ax3.collections[0].set_alpha(0)\n",
    "ax3.tick_params(axis='both', labelsize=20)\n",
    "ax3.set_title('Group 3', fontsize=30)\n",
    "\n",
    "plt.show()"
   ]
  },
  {
   "cell_type": "markdown",
   "metadata": {},
   "source": [
    "On this plot, we realize mainly two things:\n",
    "* the distinction main course/ dessert is pretty clear: groups 0 and 1 are both clearly identified as desserts. For groups 2 and 3, there is a residual tail but the main part is identified as main course\n",
    "* however the distinction between simple and complex recipes is not as correct. We see recipes are mostly considered complex, even if group 3 is not that far from being identified. Group 1 is quite out of the target zone though."
   ]
  },
  {
   "cell_type": "markdown",
   "metadata": {},
   "source": [
    "## Conclusion\n",
    "\n",
    "The classification via k-means clustering makes sense regarding the ingredients of the recipes. Grouping according to the food groups each recipe covers is relevant as it distinguishes clearly different groups of food usually cooked together. \n",
    "\n",
    "As shown in the study and with the propensity scores, the fat/carb/protein characterization is possible and valid to distinguish between the desserts and the main courses. The distributions are pretty different among those groups and the characterization makes sense.\n",
    "\n",
    "However, when it comes to distinguish between complex and simple recipes (the classification is a bit more shaded but can be summed up this way), the differences in fat/carb/protein distribution are not that clear, and the characterazition is more complicated."
   ]
  }
 ],
 "metadata": {
  "anaconda-cloud": {},
  "kernelspec": {
   "display_name": "Python [conda root]",
   "language": "python",
   "name": "conda-root-py"
  },
  "language_info": {
   "codemirror_mode": {
    "name": "ipython",
    "version": 3
   },
   "file_extension": ".py",
   "mimetype": "text/x-python",
   "name": "python",
   "nbconvert_exporter": "python",
   "pygments_lexer": "ipython3",
   "version": "3.5.2"
  }
 },
 "nbformat": 4,
 "nbformat_minor": 2
}
