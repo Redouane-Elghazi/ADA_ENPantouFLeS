{
 "cells": [
  {
   "cell_type": "markdown",
   "metadata": {},
   "source": [
    "# Homework 2 - Data from the Web"
   ]
  },
  {
   "cell_type": "code",
   "execution_count": null,
   "metadata": {
    "collapsed": false
   },
   "outputs": [],
   "source": [
    "import requests\n",
    "from bs4 import BeautifulSoup\n",
    "import pandas as pd\n",
    "import numpy as np\n",
    "\n",
    "%matplotlib inline\n",
    "import matplotlib.pyplot as plt"
   ]
  },
  {
   "cell_type": "markdown",
   "metadata": {},
   "source": [
    "## Question 1 - \n",
    "\n",
    "### Part 1 - Extracting the Data of the website"
   ]
  },
  {
   "cell_type": "code",
   "execution_count": null,
   "metadata": {
    "collapsed": false
   },
   "outputs": [],
   "source": [
    "#TopUniversities.com\n",
    "r = requests.get(\"https://www.topuniversities.com/sites/default/files/qs-rankings-data/357051.txt?_=1508602165358\")\n",
    "dic = r.json()['data']\n",
    "dic[0]"
   ]
  },
  {
   "cell_type": "code",
   "execution_count": null,
   "metadata": {
    "collapsed": true,
    "scrolled": true
   },
   "outputs": [],
   "source": [
    "for univ in dic[:200]:\n",
    "    #Get information from second page\n",
    "    r2 = requests.get(\"https://www.topuniversities.com\" + univ['url'])\n",
    "    univ['soup'] = BeautifulSoup(r2.text, 'html.parser')"
   ]
  },
  {
   "cell_type": "code",
   "execution_count": null,
   "metadata": {
    "collapsed": false,
    "scrolled": true
   },
   "outputs": [],
   "source": [
    "data_list = []\n",
    "for univ in dic[:200]:\n",
    "    #First page information\n",
    "    row = {'Name':univ['title'],'Rank':univ['rank_display'],'Country':univ['country'],'Region':univ['region']}\n",
    "    \n",
    "    #Second page information\n",
    "    try:\n",
    "        row['Number of students'] = univ['soup'].find('div',class_ = \"total student\").find('div',class_=\"number\").string[1:-1]\n",
    "        row['Number of international students'] = univ['soup'].find('div',class_ = \"total inter\").find('div',class_=\"number\").string[1:-1]\n",
    "    \n",
    "        row['Number of faculty members'] = univ['soup'].find('div',class_ = \"total faculty\").find('div',class_=\"number\").string[1:-1]\n",
    "        row['Number of international members'] = univ['soup'].find('div',class_ = \"inter faculty\").find('div',class_=\"number\").string[1:-1]\n",
    "    except:\n",
    "        print(univ['title'], univ['rank_display'])\n",
    "        \n",
    "    data_list.append(row)"
   ]
  },
  {
   "cell_type": "code",
   "execution_count": null,
   "metadata": {
    "collapsed": false
   },
   "outputs": [],
   "source": [
    "data_1 = pd.DataFrame(data_list)\n",
    "data_1 = data_1[['Name','Rank','Country','Region','Number of faculty members','Number of international members','Number of students', 'Number of international students']]#'Number of faculty members','Number of international members']]\n",
    "\n",
    "pd.set_option('display.max_rows', 200)\n",
    "data_1\n",
    "\n",
    "#199-201 wrong -> should be 198-200"
   ]
  },
  {
   "cell_type": "markdown",
   "metadata": {},
   "source": [
    "### Part 2 - Modify the data types and add new columns\n",
    "\n",
    "First we modify the data types when it is relevant ('rank' -> int, 'number of faculty members' -> int, ...)\n",
    "We use '.apply' to the specific column to modify the data type, and also filter the string. For example '12,544' is filtered as 12544.\n",
    "\n",
    "Then we add columns 'staff-students ratio' and 'int-students ratio' : we use 'number of faculty members' and 'number of students' to compute the 'staff-students ratio'. We do similarly for the other ratio."
   ]
  },
  {
   "cell_type": "code",
   "execution_count": null,
   "metadata": {
    "collapsed": false
   },
   "outputs": [],
   "source": [
    "## Modify the data types for the 1st data frame\n",
    "\n",
    "# type: int BUT in practice type: float because some columns have NaN values and type(NaN)=float\n",
    "data_1['Rank'] = data_1['Rank'].apply(lambda x : int(x.replace('=','')))\n",
    "data_1['Number of faculty members'] = data_1['Number of faculty members'].apply(lambda x : int(x.replace(',','')) if type(x)== str else np.nan)\n",
    "data_1['Number of international members'] = data_1['Number of international members'].apply(lambda x : int(x.replace(',','')) if type(x)== str else np.nan)\n",
    "data_1['Number of students'] = data_1['Number of students'].apply(lambda x : int(x.replace(',','')) if type(x)== str else np.nan)\n",
    "data_1['Number of international students'] = data_1['Number of international students'].apply(lambda x : int(x.replace(',','')) if type(x)== str else np.nan)\n",
    "\n",
    "## Add columns which are consistent with the first data_frame\n",
    "\n",
    "# Number of faculty members (type: int)\n",
    "data_1['staff-students ratio'] = data_1['Number of faculty members'] / data_1['Number of students']\n",
    "\n",
    "# Number of international students (type: int)\n",
    "data_1['int-students ratio'] = data_1['Number of international students'] /data_1['Number of students']"
   ]
  },
  {
   "cell_type": "markdown",
   "metadata": {},
   "source": [
    "### Part 3 - Charts and discussion\n",
    "\n",
    "The plots work similarly for each ratio. Here is a detail of the code for the staff-students ratio:\n",
    "\n",
    "- Best universities: we sort by the ratio and plot the head() of the dataframe\n",
    "- Best country: we group by country, sum the columns 'Number of faculty members' and 'Number of students', and re-compute the ratio\n",
    "- Best region: we group by region, sum the columns 'Number of faculty members' and'Number of students', and re-compute the ratio"
   ]
  },
  {
   "cell_type": "code",
   "execution_count": null,
   "metadata": {
    "collapsed": false,
    "scrolled": false
   },
   "outputs": [],
   "source": [
    "## Plot the Best universities for each ratio\n",
    "fig, axes = plt.subplots(nrows=1, ncols=2)\n",
    "plt.subplots_adjust(top=.85)\n",
    "fig.suptitle(\"Best Universities\", fontsize=12)\n",
    "\n",
    "g1 = data_1.sort_values(by='staff-students ratio',ascending=False)\n",
    "g1.head().set_index('Name')['staff-students ratio'].plot(kind='bar', color='steelblue', ax=axes[0], title =\"Ratio staff/students\")\n",
    "\n",
    "g2 = data_1.sort_values(by='int-students ratio',ascending=False)\n",
    "g2.head().set_index('Name')['int-students ratio'].plot(kind='bar', color='tomato', ax=axes[1], title =\"Ratio int students\")\n",
    "\n",
    "plt.show()\n",
    "\n",
    "\n",
    "## Group by country\n",
    "fig, axes = plt.subplots(nrows=1, ncols=2)\n",
    "plt.subplots_adjust(top=.85)\n",
    "fig.suptitle(\"Ratios by country\", fontsize=14)\n",
    "\n",
    "g1 = data_1.groupby('Country')[['Number of faculty members','Number of students']].sum()\n",
    "g1['staff-students ratio'] = g1['Number of faculty members'] / g1['Number of students']\n",
    "g1 = g1.sort_values(by='staff-students ratio',ascending=False)\n",
    "g1.head()['staff-students ratio'].plot(kind='bar', color='steelblue', ax=axes[0], title =\"Ratio staff/students\")\n",
    "\n",
    "g2 = data_1.groupby('Country')[['Number of international students','Number of students']].sum()\n",
    "g2['int-students ratio'] = g2['Number of international students'] / g2['Number of students']\n",
    "g2 = g2.sort_values(by='int-students ratio',ascending=False)\n",
    "g2.head()['int-students ratio'].plot(kind='bar', color='tomato', ax=axes[1], title =\"Ratio int students\")\n",
    "\n",
    "plt.show()\n",
    "\n",
    "## Group by region\n",
    "fig, axes = plt.subplots(nrows=1, ncols=2)\n",
    "plt.subplots_adjust(top=.85)\n",
    "fig.suptitle(\"Ratios by region\", fontsize=14)\n",
    "\n",
    "g1 = data_1.groupby('Region')[['Number of faculty members','Number of students']].sum()\n",
    "g1['staff-students ratio'] = g1['Number of faculty members'] / g1['Number of students']\n",
    "g1 = g1.sort_values(by='staff-students ratio',ascending=False)\n",
    "g1.head()['staff-students ratio'].plot(kind='bar', color='steelblue', ax=axes[0], title =\"Ratio staff/students\")\n",
    "\n",
    "g2 = data_1.groupby('Region')[['Number of international students','Number of students']].sum()\n",
    "g2['int-students ratio'] = g2['Number of international students'] / g2['Number of students']\n",
    "g2 = g2.sort_values(by='int-students ratio',ascending=False)\n",
    "g2.head()['int-students ratio'].plot(kind='bar', color='tomato', ax=axes[1], title =\"Ratio int students\")\n",
    "\n",
    "plt.show()\n",
    "\n",
    "\n"
   ]
  },
  {
   "cell_type": "markdown",
   "metadata": {},
   "source": [
    "We observe that EPFL has a pretty good ratio of international students, as well as Switzerland in general.\n",
    "\n",
    "For the graphs of staff/students ratio, we see that the best universities for the ratio are not in the best countries for the ratio. This means this ratio is very specific to the school, and can be very different for numerous schools in the same country."
   ]
  },
  {
   "cell_type": "markdown",
   "metadata": {},
   "source": [
    "## Question 2 -\n",
    "\n",
    "### Part 1 - extracting the data"
   ]
  },
  {
   "cell_type": "code",
   "execution_count": null,
   "metadata": {
    "collapsed": true
   },
   "outputs": [],
   "source": [
    "##TimesHigherEducation\n",
    "\n",
    "r3 = requests.get(\"https://www.timeshighereducation.com/sites/default/files/the_data_rankings/world_university_rankings_2018_limit0_369a9045a203e176392b9fb8f8c1cb2a.json\")\n",
    "list_univ = r3.json()['data']"
   ]
  },
  {
   "cell_type": "code",
   "execution_count": null,
   "metadata": {
    "collapsed": false,
    "scrolled": true
   },
   "outputs": [],
   "source": [
    "data_2 = pd.DataFrame(list_univ[:200])\n",
    "data_2 = data_2[['name','location','rank','stats_number_students','stats_pc_intl_students','stats_student_staff_ratio']]\n",
    "data_2.columns = ['Name','Country','Rank','Number of students','Percentage of international students','Students-Staff ratio']\n",
    "\n",
    "data_2"
   ]
  },
  {
   "cell_type": "markdown",
   "metadata": {},
   "source": [
    "### Part 2 - Modify the data types and add new columns\n",
    "\n",
    "We proceed similarly to part 1.\n",
    "\n",
    "First we modify the data types when it is relevant ('rank' -> int, 'number of faculty members' -> int, ...)\n",
    "We use '.apply' to the specific column to modify the data type, and also filter the string. For example '12,544' is filtered as 12544.\n",
    "\n",
    "Then we add columns 'staff-students ratio' and 'int-students ratio'.\n",
    "\n",
    "We also add columns 'Number of faculty members' and 'Number of international students' to have consistent data with the first dataframe. For the region column, we create a dictionary {country:region}."
   ]
  },
  {
   "cell_type": "code",
   "execution_count": null,
   "metadata": {
    "collapsed": false,
    "scrolled": false
   },
   "outputs": [],
   "source": [
    "## Modify the data types for the 2nd data frame\n",
    "\n",
    "# type: int\n",
    "data_2['Rank'] = data_2['Rank'].apply(lambda x : int(x.replace('=','')))\n",
    "data_2['Number of students'] = data_2['Number of students'].apply(lambda x : int(x.replace(',','')))\n",
    "\n",
    "# type: float\n",
    "data_2['Percentage of international students'] = data_2['Percentage of international students'].apply(lambda x : float(x.replace('%','')))\n",
    "data_2['Students-Staff ratio'] = data_2['Students-Staff ratio'].apply(lambda x : float(x))\n",
    "\n",
    "\n",
    "## Add ratio columns\n",
    "\n",
    "# Number of faculty members (type: int)\n",
    "data_2['staff-students ratio'] = 1 / data_2['Students-Staff ratio']\n",
    "\n",
    "# Number of international students (type: int)\n",
    "data_2['int-students ratio'] = data_2['Percentage of international students'] /100\n",
    "\n",
    "\n",
    "## Add columns which are consistent with the first data_frame\n",
    "\n",
    "# Number of faculty members (type: int)\n",
    "data_2['Number of faculty members'] = data_2['Number of students'] / data_2['Students-Staff ratio']\n",
    "data_2['Number of faculty members'] = data_2['Number of faculty members'].apply(lambda x : int(x))\n",
    "\n",
    "# Number of international students (type: int)\n",
    "data_2['Number of international students'] = data_2['Number of students'] *data_2['Percentage of international students'] /100\n",
    "data_2['Number of international students'] = data_2['Number of international students'].apply(lambda x : int(x))"
   ]
  },
  {
   "cell_type": "code",
   "execution_count": null,
   "metadata": {
    "collapsed": false
   },
   "outputs": [],
   "source": [
    "dict_region = {'Argentina': 'Latin America','Australia': 'Oceania',\n",
    "'Austria': 'Europe','Belgium': 'Europe',\n",
    "'Brazil': 'Latin America','Canada': 'North America',\n",
    "'Chile': 'Latin America','China': 'Asia','Denmark': 'Europe',\n",
    "'Finland': 'Europe','France': 'Europe','Germany': 'Europe',\n",
    "'Hong Kong': 'Asia','India': 'Asia','Ireland': 'Europe','Israel': 'Asia',\n",
    "'Italy': 'Europe','Japan': 'Asia','Malaysia': 'Asia','Mexico': 'Latin America',\n",
    "'Netherlands': 'Europe','New Zealand': 'Oceania','Norway': 'Europe','Russian Federation': 'Europe',\n",
    "'Saudi Arabia': 'Asia','Singapore': 'Asia','South Africa': 'Africa','South Korea': 'Asia',\n",
    "'Spain': 'Europe','Sweden': 'Europe','Switzerland': 'Europe','Taiwan': 'Asia',\n",
    "'United Kingdom': 'Europe','United States': 'North America', 'Luxembourg': 'Europe'}"
   ]
  },
  {
   "cell_type": "code",
   "execution_count": null,
   "metadata": {
    "collapsed": false
   },
   "outputs": [],
   "source": [
    "data_2['Region'] = data_2['Country']\n",
    "data_2 = data_2.replace({'Region': dict_region})\n",
    "data_2"
   ]
  },
  {
   "cell_type": "markdown",
   "metadata": {},
   "source": [
    "### Part 3 - Charts and discussion\n",
    "\n",
    "The plots work similarly for each ratio. Here is a detail of the code for the staff-students ratio:\n",
    "\n",
    "- Best universities: we sort by the ratio and plot the head() of the dataframe\n",
    "- Best country: we group by country, sum the columns 'Number of faculty members' and 'Number of students', and re-compute the ratio\n",
    "- Best region: we group by region, then sum the columns 'Number of faculty members' and'Number of students', and re-compute the ratio\n",
    "\n"
   ]
  },
  {
   "cell_type": "code",
   "execution_count": null,
   "metadata": {
    "collapsed": false,
    "scrolled": false
   },
   "outputs": [],
   "source": [
    "## Plot the Best universities for each ratio\n",
    "fig, axes = plt.subplots(nrows=1, ncols=2)\n",
    "plt.subplots_adjust(top=.85)\n",
    "fig.suptitle(\"Best Universities\", fontsize=12)\n",
    "\n",
    "g1 = data_2.sort_values(by='staff-students ratio',ascending=False)\n",
    "g1.head().set_index('Name')['staff-students ratio'].plot(kind='bar', color='steelblue', ax=axes[0], title =\"Ratio staff/students\")\n",
    "\n",
    "g2 = data_2.sort_values(by='int-students ratio',ascending=False)\n",
    "g2.head().set_index('Name')['int-students ratio'].plot(kind='bar', color='tomato', ax=axes[1], title =\"Ratio int students\")\n",
    "\n",
    "plt.show()\n",
    "\n",
    "\n",
    "## Group by country\n",
    "fig, axes = plt.subplots(nrows=1, ncols=2)\n",
    "plt.subplots_adjust(top=.85)\n",
    "fig.suptitle(\"Ratios by country\", fontsize=14)\n",
    "\n",
    "g1 = data_2.groupby('Country')[['Number of faculty members','Number of students']].sum()\n",
    "g1['staff-students ratio'] = g1['Number of faculty members'] / g1['Number of students']\n",
    "g1 = g1.sort_values(by='staff-students ratio',ascending=False)\n",
    "g1.head()['staff-students ratio'].plot(kind='bar', color='steelblue', ax=axes[0], title =\"Ratio staff/students\")\n",
    "\n",
    "g2 = data_2.groupby('Country')[['Number of international students','Number of students']].sum()\n",
    "g2['int-students ratio'] = g2['Number of international students'] / g2['Number of students']\n",
    "g2 = g2.sort_values(by='int-students ratio',ascending=False)\n",
    "g2.head()['int-students ratio'].plot(kind='bar', color='tomato', ax=axes[1], title =\"Ratio int students\")\n",
    "\n",
    "plt.show()\n",
    "\n",
    "## Group by region\n",
    "fig, axes = plt.subplots(nrows=1, ncols=2)\n",
    "plt.subplots_adjust(top=.85)\n",
    "fig.suptitle(\"Ratios by region\", fontsize=14)\n",
    "\n",
    "g1 = data_2.groupby('Region')[['Number of faculty members','Number of students']].sum()\n",
    "g1['staff-students ratio'] = g1['Number of faculty members'] / g1['Number of students']\n",
    "g1 = g1.sort_values(by='staff-students ratio',ascending=False)\n",
    "g1.head()['staff-students ratio'].plot(kind='bar', color='steelblue', ax=axes[0], title =\"Ratio staff/students\")\n",
    "\n",
    "g2 = data_2.groupby('Region')[['Number of international students','Number of students']].sum()\n",
    "g2['int-students ratio'] = g2['Number of international students'] / g2['Number of students']\n",
    "g2 = g2.sort_values(by='int-students ratio',ascending=False)\n",
    "g2.head()['int-students ratio'].plot(kind='bar', color='tomato', ax=axes[1], title =\"Ratio int students\")\n",
    "\n",
    "plt.show()\n",
    "\n",
    "\n"
   ]
  },
  {
   "cell_type": "markdown",
   "metadata": {},
   "source": [
    "We observe that the values are slightly different from the first tables.\n",
    "Once again, small countries get better average ratios because there are less representative universities."
   ]
  },
  {
   "cell_type": "code",
   "execution_count": null,
   "metadata": {
    "collapsed": true
   },
   "outputs": [],
   "source": []
  }
 ],
 "metadata": {
  "anaconda-cloud": {},
  "kernelspec": {
   "display_name": "Python [conda root]",
   "language": "python",
   "name": "conda-root-py"
  },
  "language_info": {
   "codemirror_mode": {
    "name": "ipython",
    "version": 3
   },
   "file_extension": ".py",
   "mimetype": "text/x-python",
   "name": "python",
   "nbconvert_exporter": "python",
   "pygments_lexer": "ipython3",
   "version": "3.5.2"
  }
 },
 "nbformat": 4,
 "nbformat_minor": 2
}
